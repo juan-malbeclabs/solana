{
 "cells": [
  {
   "cell_type": "markdown",
   "metadata": {},
   "source": [
    "# Solana Validators and Gossip Data Analysis\n",
    "\n",
    "This Jupyter Notebook downloads the list of Solana validators and gossip data, cross-references it with geographical information from ipinfo.io, \n",
    "and exports the combined data to an Excel file.\n",
    "\n",
    "## Workflow:\n",
    "1. Download Solana gossip data using the Solana CLI.\n",
    "2. Download Solana validators data using the Solana CLI.\n",
    "3. Cross-reference the gossip data with the validators data.\n",
    "4. Filter the combined data for validators with an activated stake greater than 0.\n",
    "5. Retrieve geographical information for each IP address from ipinfo.io.\n",
    "6. Combine the geographical information with the filtered data.\n",
    "7. Export the final combined data to an Excel file."
   ]
  },
  {
   "cell_type": "code",
   "execution_count": 2,
   "metadata": {},
   "outputs": [],
   "source": [
    "import subprocess, json, pandas as pd, os\n",
    "import maxminddb, pprint, ipaddress\n",
    "\n",
    "def get_solana_gossip():\n",
    "    solana_cli = os.path.expanduser('~/.local/share/solana/install/active_release/bin/solana')\n",
    "    result = subprocess.run([solana_cli, 'gossip', '--output', 'json'], capture_output=True)\n",
    "    if result.stderr:\n",
    "        raise Exception\n",
    "    return json.loads(result.stdout)\n",
    "\n",
    "def get_solana_validators():\n",
    "    solana_cli = os.path.expanduser('~/.local/share/solana/install/active_release/bin/solana')\n",
    "    result = subprocess.run([solana_cli, 'validators', '--output', 'json'], capture_output=True)\n",
    "    if result.stderr:\n",
    "        raise Exception\n",
    "    return json.loads(result.stdout)\n",
    "\n",
    "gossip = get_solana_gossip()\n",
    "validators = get_solana_validators()"
   ]
  },
  {
   "cell_type": "code",
   "execution_count": null,
   "metadata": {
    "vscode": {
     "languageId": "ruby"
    }
   },
   "outputs": [],
   "source": [
    "# Create a dictionary for quick access to validators by their identityPubkey\n",
    "validators_dict = {validator['identityPubkey']: validator for validator in validators['validators']}\n",
    "\n",
    "# Create a new array combining the gossip and validators information\n",
    "combined_data = []\n",
    "for node in gossip:\n",
    "    pubkey = node['identityPubkey']\n",
    "    if pubkey in validators_dict:\n",
    "        combined_entry = {**node, **validators_dict[pubkey]}\n",
    "        combined_data.append(combined_entry)\n",
    "\n",
    "for entry in combined_data:\n",
    "    if 'activatedStake' in entry:\n",
    "        entry['activatedStake'] = entry['activatedStake'] / 1_000_000_000"
   ]
  },
  {
   "cell_type": "code",
   "execution_count": null,
   "metadata": {},
   "outputs": [],
   "source": [
    "import requests\n",
    "\n",
    "# Function to get information from IPinfo.io\n",
    "def get_ipinfo(ip_address, token):\n",
    "    url = f\"https://ipinfo.io/{ip_address}/json?token={token}\"\n",
    "    response = requests.get(url)\n",
    "    return response.json()\n",
    "\n",
    "# IPinfo.io token\n",
    "token = \"528509095bd574\"\n",
    "\n",
    "# Filter the combined data for those with activatedStake > 0\n",
    "filtered_data = [entry for entry in combined_data if entry.get('activatedStake', 0) > 0]\n",
    "\n",
    "# Get information from IPinfo.io and combine it with the filtered data\n",
    "for entry in filtered_data:\n",
    "    ip_info = get_ipinfo(entry['ipAddress'], token)\n",
    "    entry.update(ip_info)"
   ]
  },
  {
   "cell_type": "code",
   "execution_count": null,
   "metadata": {},
   "outputs": [],
   "source": [
    "def flatten_dict(d, parent_key='', sep='_'):\n",
    "    items = []\n",
    "    for k, v in d.items():\n",
    "        new_key = f\"{parent_key}{sep}{k}\" if parent_key else k\n",
    "        if isinstance(v, dict):\n",
    "            items.extend(flatten_dict(v, new_key, sep=sep).items())\n",
    "        else:\n",
    "            items.append((new_key, v))\n",
    "    return dict(items)\n",
    "\n",
    "# Flatten each entry in the filtered_data array\n",
    "flattened_data = [flatten_dict(entry) for entry in filtered_data]"
   ]
  },
  {
   "cell_type": "code",
   "execution_count": 7,
   "metadata": {},
   "outputs": [],
   "source": [
    "# Convert the flattened data to a DataFrame\n",
    "df_flattened = pd.DataFrame(flattened_data)\n",
    "\n",
    "# Export the DataFrame to an Excel file\n",
    "df_flattened.to_excel('validators.xlsx', index=False)"
   ]
  }
 ],
 "metadata": {
  "kernelspec": {
   "display_name": "Python 3",
   "language": "python",
   "name": "python3"
  },
  "language_info": {
   "codemirror_mode": {
    "name": "ipython",
    "version": 3
   },
   "file_extension": ".py",
   "mimetype": "text/x-python",
   "name": "python",
   "nbconvert_exporter": "python",
   "pygments_lexer": "ipython3",
   "version": "3.12.3"
  }
 },
 "nbformat": 4,
 "nbformat_minor": 2
}
